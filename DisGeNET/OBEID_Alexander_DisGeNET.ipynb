{
 "cells": [
  {
   "cell_type": "code",
   "execution_count": 264,
   "id": "9d528787",
   "metadata": {},
   "outputs": [],
   "source": [
    "import pandas as pd\n",
    "import matplotlib.pyplot as plt\n",
    "import seaborn as sns\n",
    "from scipy.optimize import curve_fit\n",
    "import math\n",
    "from sklearn.metrics import mean_squared_error\n",
    "import networkx as nx\n",
    "from networkx.algorithms import bipartite"
   ]
  },
  {
   "cell_type": "code",
   "execution_count": 265,
   "id": "6c7ead28",
   "metadata": {},
   "outputs": [
    {
     "data": {
      "text/plain": [
       "\"\\nimport gzip\\nimport shutil\\nwith gzip.open('all_gene_disease_associations.tsv.gz', 'rb') as f_in:\\n    with open('all_gene_disease_associations.tsv', 'wb') as f_out:\\n        shutil.copyfileobj(f_in, f_out)\\n\""
      ]
     },
     "execution_count": 265,
     "metadata": {},
     "output_type": "execute_result"
    }
   ],
   "source": [
    "'''\n",
    "import gzip\n",
    "import shutil\n",
    "with gzip.open('all_gene_disease_associations.tsv.gz', 'rb') as f_in:\n",
    "    with open('all_gene_disease_associations.tsv', 'wb') as f_out:\n",
    "        shutil.copyfileobj(f_in, f_out)\n",
    "'''"
   ]
  },
  {
   "cell_type": "code",
   "execution_count": 266,
   "id": "26d53be5",
   "metadata": {},
   "outputs": [],
   "source": [
    "data = pd.read_csv('all_gene_disease_associations.tsv', sep='\\t')"
   ]
  },
  {
   "cell_type": "code",
   "execution_count": 267,
   "id": "5f4ac422",
   "metadata": {},
   "outputs": [
    {
     "data": {
      "text/html": [
       "<div>\n",
       "<style scoped>\n",
       "    .dataframe tbody tr th:only-of-type {\n",
       "        vertical-align: middle;\n",
       "    }\n",
       "\n",
       "    .dataframe tbody tr th {\n",
       "        vertical-align: top;\n",
       "    }\n",
       "\n",
       "    .dataframe thead th {\n",
       "        text-align: right;\n",
       "    }\n",
       "</style>\n",
       "<table border=\"1\" class=\"dataframe\">\n",
       "  <thead>\n",
       "    <tr style=\"text-align: right;\">\n",
       "      <th></th>\n",
       "      <th>geneId</th>\n",
       "      <th>geneSymbol</th>\n",
       "      <th>DSI</th>\n",
       "      <th>DPI</th>\n",
       "      <th>diseaseId</th>\n",
       "      <th>diseaseName</th>\n",
       "      <th>diseaseType</th>\n",
       "      <th>diseaseClass</th>\n",
       "      <th>diseaseSemanticType</th>\n",
       "      <th>score</th>\n",
       "      <th>EI</th>\n",
       "      <th>YearInitial</th>\n",
       "      <th>YearFinal</th>\n",
       "      <th>NofPmids</th>\n",
       "      <th>NofSnps</th>\n",
       "      <th>source</th>\n",
       "    </tr>\n",
       "  </thead>\n",
       "  <tbody>\n",
       "    <tr>\n",
       "      <th>0</th>\n",
       "      <td>1</td>\n",
       "      <td>A1BG</td>\n",
       "      <td>0.700</td>\n",
       "      <td>0.538</td>\n",
       "      <td>C0001418</td>\n",
       "      <td>Adenocarcinoma</td>\n",
       "      <td>group</td>\n",
       "      <td>C04</td>\n",
       "      <td>Neoplastic Process</td>\n",
       "      <td>0.01</td>\n",
       "      <td>1.0</td>\n",
       "      <td>2008.0</td>\n",
       "      <td>2008.0</td>\n",
       "      <td>1</td>\n",
       "      <td>0</td>\n",
       "      <td>LHGDN</td>\n",
       "    </tr>\n",
       "    <tr>\n",
       "      <th>1</th>\n",
       "      <td>1</td>\n",
       "      <td>A1BG</td>\n",
       "      <td>0.700</td>\n",
       "      <td>0.538</td>\n",
       "      <td>C0002736</td>\n",
       "      <td>Amyotrophic Lateral Sclerosis</td>\n",
       "      <td>disease</td>\n",
       "      <td>C18;C10</td>\n",
       "      <td>Disease or Syndrome</td>\n",
       "      <td>0.01</td>\n",
       "      <td>1.0</td>\n",
       "      <td>2008.0</td>\n",
       "      <td>2008.0</td>\n",
       "      <td>1</td>\n",
       "      <td>0</td>\n",
       "      <td>BEFREE</td>\n",
       "    </tr>\n",
       "    <tr>\n",
       "      <th>2</th>\n",
       "      <td>1</td>\n",
       "      <td>A1BG</td>\n",
       "      <td>0.700</td>\n",
       "      <td>0.538</td>\n",
       "      <td>C0003578</td>\n",
       "      <td>Apnea</td>\n",
       "      <td>phenotype</td>\n",
       "      <td>C23;C08</td>\n",
       "      <td>Sign or Symptom</td>\n",
       "      <td>0.01</td>\n",
       "      <td>1.0</td>\n",
       "      <td>2017.0</td>\n",
       "      <td>2017.0</td>\n",
       "      <td>1</td>\n",
       "      <td>0</td>\n",
       "      <td>BEFREE</td>\n",
       "    </tr>\n",
       "    <tr>\n",
       "      <th>3</th>\n",
       "      <td>1</td>\n",
       "      <td>A1BG</td>\n",
       "      <td>0.700</td>\n",
       "      <td>0.538</td>\n",
       "      <td>C0003864</td>\n",
       "      <td>Arthritis</td>\n",
       "      <td>disease</td>\n",
       "      <td>C05</td>\n",
       "      <td>Disease or Syndrome</td>\n",
       "      <td>0.01</td>\n",
       "      <td>1.0</td>\n",
       "      <td>2019.0</td>\n",
       "      <td>2019.0</td>\n",
       "      <td>1</td>\n",
       "      <td>0</td>\n",
       "      <td>BEFREE</td>\n",
       "    </tr>\n",
       "    <tr>\n",
       "      <th>4</th>\n",
       "      <td>1</td>\n",
       "      <td>A1BG</td>\n",
       "      <td>0.700</td>\n",
       "      <td>0.538</td>\n",
       "      <td>C0008373</td>\n",
       "      <td>Cholesteatoma</td>\n",
       "      <td>disease</td>\n",
       "      <td>C17</td>\n",
       "      <td>Disease or Syndrome</td>\n",
       "      <td>0.01</td>\n",
       "      <td>1.0</td>\n",
       "      <td>2020.0</td>\n",
       "      <td>2020.0</td>\n",
       "      <td>1</td>\n",
       "      <td>0</td>\n",
       "      <td>BEFREE</td>\n",
       "    </tr>\n",
       "    <tr>\n",
       "      <th>...</th>\n",
       "      <td>...</td>\n",
       "      <td>...</td>\n",
       "      <td>...</td>\n",
       "      <td>...</td>\n",
       "      <td>...</td>\n",
       "      <td>...</td>\n",
       "      <td>...</td>\n",
       "      <td>...</td>\n",
       "      <td>...</td>\n",
       "      <td>...</td>\n",
       "      <td>...</td>\n",
       "      <td>...</td>\n",
       "      <td>...</td>\n",
       "      <td>...</td>\n",
       "      <td>...</td>\n",
       "      <td>...</td>\n",
       "    </tr>\n",
       "    <tr>\n",
       "      <th>1134937</th>\n",
       "      <td>115804232</td>\n",
       "      <td>CEROX1</td>\n",
       "      <td>NaN</td>\n",
       "      <td>NaN</td>\n",
       "      <td>C0005890</td>\n",
       "      <td>Body Height</td>\n",
       "      <td>phenotype</td>\n",
       "      <td>NaN</td>\n",
       "      <td>Organism Attribute</td>\n",
       "      <td>0.10</td>\n",
       "      <td>1.0</td>\n",
       "      <td>2019.0</td>\n",
       "      <td>2019.0</td>\n",
       "      <td>1</td>\n",
       "      <td>0</td>\n",
       "      <td>GWASCAT</td>\n",
       "    </tr>\n",
       "    <tr>\n",
       "      <th>1134938</th>\n",
       "      <td>115891964</td>\n",
       "      <td>MIR223HG</td>\n",
       "      <td>0.861</td>\n",
       "      <td>0.077</td>\n",
       "      <td>C0023418</td>\n",
       "      <td>leukemia</td>\n",
       "      <td>disease</td>\n",
       "      <td>C04</td>\n",
       "      <td>Neoplastic Process</td>\n",
       "      <td>0.01</td>\n",
       "      <td>1.0</td>\n",
       "      <td>2016.0</td>\n",
       "      <td>2016.0</td>\n",
       "      <td>1</td>\n",
       "      <td>0</td>\n",
       "      <td>BEFREE</td>\n",
       "    </tr>\n",
       "    <tr>\n",
       "      <th>1134939</th>\n",
       "      <td>115891964</td>\n",
       "      <td>MIR223HG</td>\n",
       "      <td>0.861</td>\n",
       "      <td>0.077</td>\n",
       "      <td>C0023467</td>\n",
       "      <td>Leukemia, Myelocytic, Acute</td>\n",
       "      <td>disease</td>\n",
       "      <td>C04</td>\n",
       "      <td>Neoplastic Process</td>\n",
       "      <td>0.01</td>\n",
       "      <td>1.0</td>\n",
       "      <td>2016.0</td>\n",
       "      <td>2016.0</td>\n",
       "      <td>1</td>\n",
       "      <td>0</td>\n",
       "      <td>BEFREE</td>\n",
       "    </tr>\n",
       "    <tr>\n",
       "      <th>1134940</th>\n",
       "      <td>115891964</td>\n",
       "      <td>MIR223HG</td>\n",
       "      <td>0.861</td>\n",
       "      <td>0.077</td>\n",
       "      <td>C0598766</td>\n",
       "      <td>Leukemogenesis</td>\n",
       "      <td>disease</td>\n",
       "      <td>C23;C04</td>\n",
       "      <td>Neoplastic Process</td>\n",
       "      <td>0.01</td>\n",
       "      <td>1.0</td>\n",
       "      <td>2016.0</td>\n",
       "      <td>2016.0</td>\n",
       "      <td>1</td>\n",
       "      <td>0</td>\n",
       "      <td>BEFREE</td>\n",
       "    </tr>\n",
       "    <tr>\n",
       "      <th>1134941</th>\n",
       "      <td>115891964</td>\n",
       "      <td>MIR223HG</td>\n",
       "      <td>0.861</td>\n",
       "      <td>0.077</td>\n",
       "      <td>C1332977</td>\n",
       "      <td>Childhood Leukemia</td>\n",
       "      <td>disease</td>\n",
       "      <td>C04</td>\n",
       "      <td>Neoplastic Process</td>\n",
       "      <td>0.01</td>\n",
       "      <td>1.0</td>\n",
       "      <td>2016.0</td>\n",
       "      <td>2016.0</td>\n",
       "      <td>1</td>\n",
       "      <td>0</td>\n",
       "      <td>BEFREE</td>\n",
       "    </tr>\n",
       "  </tbody>\n",
       "</table>\n",
       "<p>1134942 rows × 16 columns</p>\n",
       "</div>"
      ],
      "text/plain": [
       "            geneId geneSymbol    DSI    DPI diseaseId  \\\n",
       "0                1       A1BG  0.700  0.538  C0001418   \n",
       "1                1       A1BG  0.700  0.538  C0002736   \n",
       "2                1       A1BG  0.700  0.538  C0003578   \n",
       "3                1       A1BG  0.700  0.538  C0003864   \n",
       "4                1       A1BG  0.700  0.538  C0008373   \n",
       "...            ...        ...    ...    ...       ...   \n",
       "1134937  115804232     CEROX1    NaN    NaN  C0005890   \n",
       "1134938  115891964   MIR223HG  0.861  0.077  C0023418   \n",
       "1134939  115891964   MIR223HG  0.861  0.077  C0023467   \n",
       "1134940  115891964   MIR223HG  0.861  0.077  C0598766   \n",
       "1134941  115891964   MIR223HG  0.861  0.077  C1332977   \n",
       "\n",
       "                           diseaseName diseaseType diseaseClass  \\\n",
       "0                       Adenocarcinoma       group          C04   \n",
       "1        Amyotrophic Lateral Sclerosis     disease      C18;C10   \n",
       "2                                Apnea   phenotype      C23;C08   \n",
       "3                            Arthritis     disease          C05   \n",
       "4                        Cholesteatoma     disease          C17   \n",
       "...                                ...         ...          ...   \n",
       "1134937                    Body Height   phenotype          NaN   \n",
       "1134938                       leukemia     disease          C04   \n",
       "1134939    Leukemia, Myelocytic, Acute     disease          C04   \n",
       "1134940                 Leukemogenesis     disease      C23;C04   \n",
       "1134941             Childhood Leukemia     disease          C04   \n",
       "\n",
       "         diseaseSemanticType  score   EI  YearInitial  YearFinal  NofPmids  \\\n",
       "0         Neoplastic Process   0.01  1.0       2008.0     2008.0         1   \n",
       "1        Disease or Syndrome   0.01  1.0       2008.0     2008.0         1   \n",
       "2            Sign or Symptom   0.01  1.0       2017.0     2017.0         1   \n",
       "3        Disease or Syndrome   0.01  1.0       2019.0     2019.0         1   \n",
       "4        Disease or Syndrome   0.01  1.0       2020.0     2020.0         1   \n",
       "...                      ...    ...  ...          ...        ...       ...   \n",
       "1134937   Organism Attribute   0.10  1.0       2019.0     2019.0         1   \n",
       "1134938   Neoplastic Process   0.01  1.0       2016.0     2016.0         1   \n",
       "1134939   Neoplastic Process   0.01  1.0       2016.0     2016.0         1   \n",
       "1134940   Neoplastic Process   0.01  1.0       2016.0     2016.0         1   \n",
       "1134941   Neoplastic Process   0.01  1.0       2016.0     2016.0         1   \n",
       "\n",
       "         NofSnps   source  \n",
       "0              0    LHGDN  \n",
       "1              0   BEFREE  \n",
       "2              0   BEFREE  \n",
       "3              0   BEFREE  \n",
       "4              0   BEFREE  \n",
       "...          ...      ...  \n",
       "1134937        0  GWASCAT  \n",
       "1134938        0   BEFREE  \n",
       "1134939        0   BEFREE  \n",
       "1134940        0   BEFREE  \n",
       "1134941        0   BEFREE  \n",
       "\n",
       "[1134942 rows x 16 columns]"
      ]
     },
     "execution_count": 267,
     "metadata": {},
     "output_type": "execute_result"
    }
   ],
   "source": [
    "data"
   ]
  },
  {
   "cell_type": "code",
   "execution_count": 268,
   "id": "ffa4aa4f",
   "metadata": {},
   "outputs": [
    {
     "data": {
      "text/plain": [
       "Index(['geneId', 'geneSymbol', 'DSI', 'DPI', 'diseaseId', 'diseaseName',\n",
       "       'diseaseType', 'diseaseClass', 'diseaseSemanticType', 'score', 'EI',\n",
       "       'YearInitial', 'YearFinal', 'NofPmids', 'NofSnps', 'source'],\n",
       "      dtype='object')"
      ]
     },
     "execution_count": 268,
     "metadata": {},
     "output_type": "execute_result"
    }
   ],
   "source": [
    "data.columns"
   ]
  },
  {
   "cell_type": "code",
   "execution_count": 269,
   "id": "ca582905",
   "metadata": {},
   "outputs": [
    {
     "data": {
      "text/html": [
       "<div>\n",
       "<style scoped>\n",
       "    .dataframe tbody tr th:only-of-type {\n",
       "        vertical-align: middle;\n",
       "    }\n",
       "\n",
       "    .dataframe tbody tr th {\n",
       "        vertical-align: top;\n",
       "    }\n",
       "\n",
       "    .dataframe thead th {\n",
       "        text-align: right;\n",
       "    }\n",
       "</style>\n",
       "<table border=\"1\" class=\"dataframe\">\n",
       "  <thead>\n",
       "    <tr style=\"text-align: right;\">\n",
       "      <th></th>\n",
       "      <th>index</th>\n",
       "      <th>YearInitial</th>\n",
       "    </tr>\n",
       "  </thead>\n",
       "  <tbody>\n",
       "    <tr>\n",
       "      <th>72</th>\n",
       "      <td>1924.0</td>\n",
       "      <td>1</td>\n",
       "    </tr>\n",
       "    <tr>\n",
       "      <th>65</th>\n",
       "      <td>1940.0</td>\n",
       "      <td>2</td>\n",
       "    </tr>\n",
       "    <tr>\n",
       "      <th>69</th>\n",
       "      <td>1944.0</td>\n",
       "      <td>1</td>\n",
       "    </tr>\n",
       "    <tr>\n",
       "      <th>68</th>\n",
       "      <td>1947.0</td>\n",
       "      <td>1</td>\n",
       "    </tr>\n",
       "    <tr>\n",
       "      <th>71</th>\n",
       "      <td>1951.0</td>\n",
       "      <td>1</td>\n",
       "    </tr>\n",
       "    <tr>\n",
       "      <th>...</th>\n",
       "      <td>...</td>\n",
       "      <td>...</td>\n",
       "    </tr>\n",
       "    <tr>\n",
       "      <th>3</th>\n",
       "      <td>2016.0</td>\n",
       "      <td>48870</td>\n",
       "    </tr>\n",
       "    <tr>\n",
       "      <th>1</th>\n",
       "      <td>2017.0</td>\n",
       "      <td>107041</td>\n",
       "    </tr>\n",
       "    <tr>\n",
       "      <th>2</th>\n",
       "      <td>2018.0</td>\n",
       "      <td>107030</td>\n",
       "    </tr>\n",
       "    <tr>\n",
       "      <th>0</th>\n",
       "      <td>2019.0</td>\n",
       "      <td>109693</td>\n",
       "    </tr>\n",
       "    <tr>\n",
       "      <th>22</th>\n",
       "      <td>2020.0</td>\n",
       "      <td>11006</td>\n",
       "    </tr>\n",
       "  </tbody>\n",
       "</table>\n",
       "<p>73 rows × 2 columns</p>\n",
       "</div>"
      ],
      "text/plain": [
       "     index  YearInitial\n",
       "72  1924.0            1\n",
       "65  1940.0            2\n",
       "69  1944.0            1\n",
       "68  1947.0            1\n",
       "71  1951.0            1\n",
       "..     ...          ...\n",
       "3   2016.0        48870\n",
       "1   2017.0       107041\n",
       "2   2018.0       107030\n",
       "0   2019.0       109693\n",
       "22  2020.0        11006\n",
       "\n",
       "[73 rows x 2 columns]"
      ]
     },
     "execution_count": 269,
     "metadata": {},
     "output_type": "execute_result"
    }
   ],
   "source": [
    "data.YearInitial.value_counts().reset_index().sort_values(by=\"index\")"
   ]
  },
  {
   "cell_type": "code",
   "execution_count": 270,
   "id": "df56640e",
   "metadata": {},
   "outputs": [],
   "source": [
    "years = data.YearInitial.value_counts().reset_index().sort_values(by=\"index\")[\"index\"]\n",
    "count = data.YearInitial.value_counts().reset_index().sort_values(by=\"index\")[\"YearInitial\"]"
   ]
  },
  {
   "cell_type": "code",
   "execution_count": 271,
   "id": "cc2e186d",
   "metadata": {},
   "outputs": [
    {
     "data": {
      "text/plain": [
       "Text(0.5, 1.0, 'Gene-Disease discoveries by year')"
      ]
     },
     "execution_count": 271,
     "metadata": {},
     "output_type": "execute_result"
    },
    {
     "data": {
      "image/png": "[encoded data removed]",
      "text/plain": [
       "<Figure size 648x432 with 1 Axes>"
      ]
     },
     "metadata": {
      "needs_background": "light"
     },
     "output_type": "display_data"
    }
   ],
   "source": [
    "plt.rcParams[\"figure.figsize\"] = (9,6)\n",
    "plt.rcParams.update({'font.size': 14})\n",
    "plt.bar(years, count)\n",
    "plt.xlabel(\"Year\")\n",
    "plt.ylabel(\"Count\")\n",
    "plt.title(\"Gene-Disease discoveries by year\")"
   ]
  },
  {
   "cell_type": "code",
   "execution_count": 272,
   "id": "3232c6fa",
   "metadata": {},
   "outputs": [
    {
     "data": {
      "text/plain": [
       "967968"
      ]
     },
     "execution_count": 272,
     "metadata": {},
     "output_type": "execute_result"
    }
   ],
   "source": [
    "cummulative_findings_by_years = list(count)\n",
    "for i in range(1, len(cummulative_findings_by_years)):\n",
    "    cummulative_findings_by_years[i] += cummulative_findings_by_years[i-1]\n",
    "cummulative_findings_by_years[-1]"
   ]
  },
  {
   "cell_type": "code",
   "execution_count": 273,
   "id": "961c245a",
   "metadata": {},
   "outputs": [
    {
     "data": {
      "text/plain": [
       "Text(0.5, 1.0, 'Cumulative of Gene-Disease discoveries by year')"
      ]
     },
     "execution_count": 273,
     "metadata": {},
     "output_type": "execute_result"
    },
    {
     "data": {
      "image/png": "[encoded data removed]",
      "text/plain": [
       "<Figure size 648x432 with 1 Axes>"
      ]
     },
     "metadata": {
      "needs_background": "light"
     },
     "output_type": "display_data"
    }
   ],
   "source": [
    "plt.plot(years, cummulative_findings_by_years)\n",
    "plt.xlabel(\"Year\")\n",
    "plt.ylabel(\"Cumulative\")\n",
    "plt.title(\"Cumulative of Gene-Disease discoveries by year\")"
   ]
  },
  {
   "cell_type": "code",
   "execution_count": 274,
   "id": "81108778",
   "metadata": {},
   "outputs": [],
   "source": [
    "#Removing the last year bc clearly the data gathering stopped that year\n",
    "years = years[:-2]\n",
    "cummulative_findings_by_years = cummulative_findings_by_years[:-2]"
   ]
  },
  {
   "cell_type": "code",
   "execution_count": 275,
   "id": "e9315702",
   "metadata": {},
   "outputs": [],
   "source": [
    "#This doesn't work, it needs scaling on the data\n",
    "def exponential(x, a, b):\n",
    "    return a * b **(x-1924)\n",
    "popt, pcov = curve_fit(exponential, years, cummulative_findings_by_years)\n",
    "a = popt[0]\n",
    "b = popt[1]\n",
    "fitted_exponential = exponential(years, a, b)"
   ]
  },
  {
   "cell_type": "code",
   "execution_count": 276,
   "id": "37b097d3",
   "metadata": {},
   "outputs": [
    {
     "data": {
      "text/plain": [
       "'Fitted: log(y) =-148.62+0.077* x with RMSE = 0.196'"
      ]
     },
     "execution_count": 276,
     "metadata": {},
     "output_type": "execute_result"
    }
   ],
   "source": [
    "#This works\n",
    "def line(x, a, b):\n",
    "    return a + b*x\n",
    "log_cumm = [math.log10(x) for x in cummulative_findings_by_years]\n",
    "popt, pcov = curve_fit(line, years, log_cumm)\n",
    "a = popt[0]\n",
    "b = popt[1]\n",
    "fitted_line = line(years, a, b)\n",
    "rmse = mean_squared_error(log_cumm, fitted_line, squared=False)\n",
    "fitted_line_y = [10**i for i in fitted_line]\n",
    "a_o = 10**a\n",
    "b_o = 10**b\n",
    "lab = \"Fitted: log(y) =\" + str(round(a,3)) + \"+\" + str(round(b,3)) + \"* x with RMSE = \" + str(round(rmse,3))\n",
    "lab"
   ]
  },
  {
   "cell_type": "code",
   "execution_count": 277,
   "id": "8fd305c6",
   "metadata": {},
   "outputs": [
    {
     "data": {
      "text/plain": [
       "Text(0.5, 1.0, 'Cumulative of Gene-Disease discoveries by year')"
      ]
     },
     "execution_count": 277,
     "metadata": {},
     "output_type": "execute_result"
    },
    {
     "data": {
      "image/png": "[encoded data removed]",
      "text/plain": [
       "<Figure size 648x432 with 1 Axes>"
      ]
     },
     "metadata": {
      "needs_background": "light"
     },
     "output_type": "display_data"
    }
   ],
   "source": [
    "#Exponential try\n",
    "plt.plot(years, cummulative_findings_by_years, label=\"data\")\n",
    "plt.plot(years, fitted_line_y, label=lab)\n",
    "plt.xlabel(\"Year\")\n",
    "plt.ylabel(\"Cumulative\")\n",
    "plt.yscale(\"log\")\n",
    "plt.legend()\n",
    "plt.title(\"Cumulative of Gene-Disease discoveries by year\")"
   ]
  },
  {
   "cell_type": "code",
   "execution_count": 278,
   "id": "e4dd0e70",
   "metadata": {},
   "outputs": [
    {
     "name": "stderr",
     "output_type": "stream",
     "text": [
      "c:\\users\\alex\\appdata\\local\\programs\\python\\python37\\lib\\site-packages\\ipykernel_launcher.py:11: RuntimeWarning: overflow encountered in double_scalars\n",
      "  # This is added back by InteractiveShellApp.init_path()\n"
     ]
    },
    {
     "data": {
      "text/plain": [
       "'Fitted: log(y) =-1149.148+349.577* log(x) with RMSE = 0.199'"
      ]
     },
     "execution_count": 278,
     "metadata": {},
     "output_type": "execute_result"
    }
   ],
   "source": [
    "#Power law try\n",
    "log_cumm = [math.log10(x) for x in cummulative_findings_by_years]\n",
    "log_years = [math.log10(x) for x in years]\n",
    "popt, pcov = curve_fit(line, log_years, log_cumm)\n",
    "a = popt[0]\n",
    "b = popt[1]\n",
    "fitted_line = [line(i, a, b) for i in log_years]\n",
    "rmse = mean_squared_error(log_cumm, fitted_line, squared=False)\n",
    "fitted_line_y = [10**i for i in fitted_line]\n",
    "a_o = 10**a\n",
    "b_o = 10**b\n",
    "lab = \"Fitted: log(y) =\" + str(round(a,3)) + \"+\" + str(round(b,3)) + \"* log(x) with RMSE = \" + str(round(rmse,3))\n",
    "lab"
   ]
  },
  {
   "cell_type": "code",
   "execution_count": 279,
   "id": "bccc4109",
   "metadata": {},
   "outputs": [
    {
     "data": {
      "text/plain": [
       "Text(0.5, 1.0, 'Cumulative of Gene-Disease discoveries by year')"
      ]
     },
     "execution_count": 279,
     "metadata": {},
     "output_type": "execute_result"
    },
    {
     "data": {
      "image/png": "[encoded data removed]",
      "text/plain": [
       "<Figure size 648x432 with 1 Axes>"
      ]
     },
     "metadata": {
      "needs_background": "light"
     },
     "output_type": "display_data"
    }
   ],
   "source": [
    "plt.plot(years, cummulative_findings_by_years, label=\"data\")\n",
    "plt.plot(years, fitted_line_y, label=lab)\n",
    "plt.xlabel(\"Year\")\n",
    "plt.ylabel(\"Cumulative\")\n",
    "plt.yscale(\"log\")\n",
    "plt.xscale(\"log\")\n",
    "plt.legend()\n",
    "plt.title(\"Cumulative of Gene-Disease discoveries by year\")"
   ]
  },
  {
   "cell_type": "code",
   "execution_count": 280,
   "id": "378d5577",
   "metadata": {},
   "outputs": [
    {
     "data": {
      "text/plain": [
       "103540"
      ]
     },
     "execution_count": 280,
     "metadata": {},
     "output_type": "execute_result"
    }
   ],
   "source": [
    "data[\"source\"].value_counts().reset_index().sort_values(by=\"source\",ascending=False)[5:].source.sum()"
   ]
  },
  {
   "cell_type": "code",
   "execution_count": 281,
   "id": "17e9c073",
   "metadata": {},
   "outputs": [
    {
     "data": {
      "text/html": [
       "<div>\n",
       "<style scoped>\n",
       "    .dataframe tbody tr th:only-of-type {\n",
       "        vertical-align: middle;\n",
       "    }\n",
       "\n",
       "    .dataframe tbody tr th {\n",
       "        vertical-align: top;\n",
       "    }\n",
       "\n",
       "    .dataframe thead th {\n",
       "        text-align: right;\n",
       "    }\n",
       "</style>\n",
       "<table border=\"1\" class=\"dataframe\">\n",
       "  <thead>\n",
       "    <tr style=\"text-align: right;\">\n",
       "      <th></th>\n",
       "      <th>index</th>\n",
       "      <th>source</th>\n",
       "    </tr>\n",
       "  </thead>\n",
       "  <tbody>\n",
       "    <tr>\n",
       "      <th>0</th>\n",
       "      <td>BEFREE</td>\n",
       "      <td>789377</td>\n",
       "    </tr>\n",
       "    <tr>\n",
       "      <th>1</th>\n",
       "      <td>HPO</td>\n",
       "      <td>148643</td>\n",
       "    </tr>\n",
       "    <tr>\n",
       "      <th>2</th>\n",
       "      <td>CTD_human</td>\n",
       "      <td>44786</td>\n",
       "    </tr>\n",
       "    <tr>\n",
       "      <th>3</th>\n",
       "      <td>GWASCAT</td>\n",
       "      <td>34270</td>\n",
       "    </tr>\n",
       "    <tr>\n",
       "      <th>4</th>\n",
       "      <td>CLINVAR</td>\n",
       "      <td>14326</td>\n",
       "    </tr>\n",
       "  </tbody>\n",
       "</table>\n",
       "</div>"
      ],
      "text/plain": [
       "       index  source\n",
       "0     BEFREE  789377\n",
       "1        HPO  148643\n",
       "2  CTD_human   44786\n",
       "3    GWASCAT   34270\n",
       "4    CLINVAR   14326"
      ]
     },
     "execution_count": 281,
     "metadata": {},
     "output_type": "execute_result"
    }
   ],
   "source": [
    "data[\"source\"].value_counts().reset_index().sort_values(by=\"source\",ascending=False)[:5]"
   ]
  },
  {
   "cell_type": "code",
   "execution_count": 282,
   "id": "fdd6c278",
   "metadata": {},
   "outputs": [
    {
     "data": {
      "image/png": "[encoded data removed]",
      "text/plain": [
       "<Figure size 648x432 with 1 Axes>"
      ]
     },
     "metadata": {},
     "output_type": "display_data"
    }
   ],
   "source": [
    "#define data\n",
    "data_pie = list(data[\"source\"].value_counts().reset_index().sort_values(by=\"source\",ascending=False)[\"source\"][:5])\n",
    "labels = list(data[\"source\"].value_counts().reset_index().sort_values(by=\"source\",ascending=False)[\"index\"][:5])\n",
    "data_pie.append(103540)\n",
    "labels.append(\"Other\")\n",
    "#define Seaborn color palette to use\n",
    "colors = sns.color_palette('pastel')[0:6]\n",
    "\n",
    "#create pie chart\n",
    "plt.pie(data_pie, labels = labels, colors = colors, autopct='%.0f%%')\n",
    "plt.title(\"Data sources for DisGeNET\")\n",
    "plt.show()"
   ]
  },
  {
   "cell_type": "code",
   "execution_count": 283,
   "id": "33f6158f",
   "metadata": {},
   "outputs": [
    {
     "data": {
      "text/html": [
       "<div>\n",
       "<style scoped>\n",
       "    .dataframe tbody tr th:only-of-type {\n",
       "        vertical-align: middle;\n",
       "    }\n",
       "\n",
       "    .dataframe tbody tr th {\n",
       "        vertical-align: top;\n",
       "    }\n",
       "\n",
       "    .dataframe thead th {\n",
       "        text-align: right;\n",
       "    }\n",
       "</style>\n",
       "<table border=\"1\" class=\"dataframe\">\n",
       "  <thead>\n",
       "    <tr style=\"text-align: right;\">\n",
       "      <th></th>\n",
       "      <th>geneSymbol</th>\n",
       "      <th>diseaseId</th>\n",
       "      <th>diseaseName</th>\n",
       "    </tr>\n",
       "  </thead>\n",
       "  <tbody>\n",
       "    <tr>\n",
       "      <th>0</th>\n",
       "      <td>A1BG</td>\n",
       "      <td>C0001418</td>\n",
       "      <td>Adenocarcinoma</td>\n",
       "    </tr>\n",
       "    <tr>\n",
       "      <th>1</th>\n",
       "      <td>A1BG</td>\n",
       "      <td>C0002736</td>\n",
       "      <td>Amyotrophic Lateral Sclerosis</td>\n",
       "    </tr>\n",
       "    <tr>\n",
       "      <th>2</th>\n",
       "      <td>A1BG</td>\n",
       "      <td>C0003578</td>\n",
       "      <td>Apnea</td>\n",
       "    </tr>\n",
       "    <tr>\n",
       "      <th>3</th>\n",
       "      <td>A1BG</td>\n",
       "      <td>C0003864</td>\n",
       "      <td>Arthritis</td>\n",
       "    </tr>\n",
       "    <tr>\n",
       "      <th>4</th>\n",
       "      <td>A1BG</td>\n",
       "      <td>C0008373</td>\n",
       "      <td>Cholesteatoma</td>\n",
       "    </tr>\n",
       "    <tr>\n",
       "      <th>...</th>\n",
       "      <td>...</td>\n",
       "      <td>...</td>\n",
       "      <td>...</td>\n",
       "    </tr>\n",
       "    <tr>\n",
       "      <th>1134937</th>\n",
       "      <td>CEROX1</td>\n",
       "      <td>C0005890</td>\n",
       "      <td>Body Height</td>\n",
       "    </tr>\n",
       "    <tr>\n",
       "      <th>1134938</th>\n",
       "      <td>MIR223HG</td>\n",
       "      <td>C0023418</td>\n",
       "      <td>leukemia</td>\n",
       "    </tr>\n",
       "    <tr>\n",
       "      <th>1134939</th>\n",
       "      <td>MIR223HG</td>\n",
       "      <td>C0023467</td>\n",
       "      <td>Leukemia, Myelocytic, Acute</td>\n",
       "    </tr>\n",
       "    <tr>\n",
       "      <th>1134940</th>\n",
       "      <td>MIR223HG</td>\n",
       "      <td>C0598766</td>\n",
       "      <td>Leukemogenesis</td>\n",
       "    </tr>\n",
       "    <tr>\n",
       "      <th>1134941</th>\n",
       "      <td>MIR223HG</td>\n",
       "      <td>C1332977</td>\n",
       "      <td>Childhood Leukemia</td>\n",
       "    </tr>\n",
       "  </tbody>\n",
       "</table>\n",
       "<p>1134942 rows × 3 columns</p>\n",
       "</div>"
      ],
      "text/plain": [
       "        geneSymbol diseaseId                    diseaseName\n",
       "0             A1BG  C0001418                 Adenocarcinoma\n",
       "1             A1BG  C0002736  Amyotrophic Lateral Sclerosis\n",
       "2             A1BG  C0003578                          Apnea\n",
       "3             A1BG  C0003864                      Arthritis\n",
       "4             A1BG  C0008373                  Cholesteatoma\n",
       "...            ...       ...                            ...\n",
       "1134937     CEROX1  C0005890                    Body Height\n",
       "1134938   MIR223HG  C0023418                       leukemia\n",
       "1134939   MIR223HG  C0023467    Leukemia, Myelocytic, Acute\n",
       "1134940   MIR223HG  C0598766                 Leukemogenesis\n",
       "1134941   MIR223HG  C1332977             Childhood Leukemia\n",
       "\n",
       "[1134942 rows x 3 columns]"
      ]
     },
     "execution_count": 283,
     "metadata": {},
     "output_type": "execute_result"
    }
   ],
   "source": [
    "network = data[[\"geneSymbol\",\"diseaseId\", \"diseaseName\"]]\n",
    "network"
   ]
  },
  {
   "cell_type": "code",
   "execution_count": 284,
   "id": "c9fd1db2",
   "metadata": {},
   "outputs": [
    {
     "data": {
      "text/plain": [
       "Index(['geneId', 'geneSymbol', 'DSI', 'DPI', 'diseaseId', 'diseaseName',\n",
       "       'diseaseType', 'diseaseClass', 'diseaseSemanticType', 'score', 'EI',\n",
       "       'YearInitial', 'YearFinal', 'NofPmids', 'NofSnps', 'source'],\n",
       "      dtype='object')"
      ]
     },
     "execution_count": 284,
     "metadata": {},
     "output_type": "execute_result"
    }
   ],
   "source": [
    "data.columns"
   ]
  },
  {
   "cell_type": "code",
   "execution_count": 285,
   "id": "ff3d182c",
   "metadata": {},
   "outputs": [
    {
     "data": {
      "text/plain": [
       "30170"
      ]
     },
     "execution_count": 285,
     "metadata": {},
     "output_type": "execute_result"
    }
   ],
   "source": [
    "diseases_ids = list(network[\"diseaseId\"].unique())\n",
    "len(diseases_ids)"
   ]
  },
  {
   "cell_type": "code",
   "execution_count": 286,
   "id": "bfda45fe",
   "metadata": {},
   "outputs": [
    {
     "data": {
      "text/plain": [
       "30170"
      ]
     },
     "execution_count": 286,
     "metadata": {},
     "output_type": "execute_result"
    }
   ],
   "source": [
    "diseases = list(network[\"diseaseName\"].unique())\n",
    "len(diseases)"
   ]
  },
  {
   "cell_type": "code",
   "execution_count": 287,
   "id": "b1f71c82",
   "metadata": {},
   "outputs": [
    {
     "data": {
      "text/plain": [
       "21666"
      ]
     },
     "execution_count": 287,
     "metadata": {},
     "output_type": "execute_result"
    }
   ],
   "source": [
    "genes = list(network[\"geneSymbol\"].unique())\n",
    "len(genes)"
   ]
  },
  {
   "cell_type": "code",
   "execution_count": 288,
   "id": "7631a4c7",
   "metadata": {},
   "outputs": [],
   "source": [
    "edges = []\n",
    "for i in network.index:\n",
    "    edges.append((network[\"geneSymbol\"][i], network[\"diseaseName\"][i]))"
   ]
  },
  {
   "cell_type": "code",
   "execution_count": 289,
   "id": "222634f8",
   "metadata": {},
   "outputs": [
    {
     "data": {
      "text/plain": [
       "('A1BG', 'Adenocarcinoma')"
      ]
     },
     "execution_count": 289,
     "metadata": {},
     "output_type": "execute_result"
    }
   ],
   "source": [
    "edges[0]"
   ]
  },
  {
   "cell_type": "code",
   "execution_count": 290,
   "id": "5e9b456f",
   "metadata": {},
   "outputs": [
    {
     "data": {
      "text/plain": [
       "1134942"
      ]
     },
     "execution_count": 290,
     "metadata": {},
     "output_type": "execute_result"
    }
   ],
   "source": [
    "len(edges)"
   ]
  },
  {
   "cell_type": "code",
   "execution_count": 291,
   "id": "6fe5b1a7",
   "metadata": {},
   "outputs": [],
   "source": [
    "G = nx.Graph()\n",
    "G.add_nodes_from(genes,bipartite=0)\n",
    "G.add_nodes_from(diseases,bipartite=1)\n",
    "G.add_edges_from(edges)\n",
    "top = [node for node in G.nodes() if G.nodes[node]['bipartite']==0]\n",
    "bottom = [node for node in G.nodes() if G.nodes[node]['bipartite']==1]"
   ]
  },
  {
   "cell_type": "code",
   "execution_count": 295,
   "id": "9739f143",
   "metadata": {},
   "outputs": [
    {
     "data": {
      "image/png": "[encoded data removed]",
      "text/plain": [
       "<Figure size 648x432 with 1 Axes>"
      ]
     },
     "metadata": {},
     "output_type": "display_data"
    }
   ],
   "source": [
    "pos = dict()\n",
    "pos.update( (n, (1, i)) for i, n in enumerate(top) ) # put nodes from X at x=1\n",
    "pos.update( (n, (2, i)) for i, n in enumerate(bottom) ) # put nodes from Y at x=2\n",
    "nx.draw_networkx(G, pos=pos, with_labels = False)\n",
    "plt.show()"
   ]
  },
  {
   "cell_type": "code",
   "execution_count": 319,
   "id": "650109c0",
   "metadata": {},
   "outputs": [
    {
     "data": {
      "text/html": [
       "<div>\n",
       "<style scoped>\n",
       "    .dataframe tbody tr th:only-of-type {\n",
       "        vertical-align: middle;\n",
       "    }\n",
       "\n",
       "    .dataframe tbody tr th {\n",
       "        vertical-align: top;\n",
       "    }\n",
       "\n",
       "    .dataframe thead th {\n",
       "        text-align: right;\n",
       "    }\n",
       "</style>\n",
       "<table border=\"1\" class=\"dataframe\">\n",
       "  <thead>\n",
       "    <tr style=\"text-align: right;\">\n",
       "      <th></th>\n",
       "      <th>Node</th>\n",
       "      <th>Degree</th>\n",
       "      <th>Type</th>\n",
       "    </tr>\n",
       "  </thead>\n",
       "  <tbody>\n",
       "    <tr>\n",
       "      <th>0</th>\n",
       "      <td>Adenocarcinoma</td>\n",
       "      <td>2235</td>\n",
       "      <td>disease</td>\n",
       "    </tr>\n",
       "    <tr>\n",
       "      <th>1</th>\n",
       "      <td>Amyotrophic Lateral Sclerosis</td>\n",
       "      <td>1114</td>\n",
       "      <td>disease</td>\n",
       "    </tr>\n",
       "    <tr>\n",
       "      <th>2</th>\n",
       "      <td>Apnea</td>\n",
       "      <td>262</td>\n",
       "      <td>disease</td>\n",
       "    </tr>\n",
       "    <tr>\n",
       "      <th>3</th>\n",
       "      <td>Arthritis</td>\n",
       "      <td>1072</td>\n",
       "      <td>disease</td>\n",
       "    </tr>\n",
       "    <tr>\n",
       "      <th>4</th>\n",
       "      <td>Cholesteatoma</td>\n",
       "      <td>135</td>\n",
       "      <td>disease</td>\n",
       "    </tr>\n",
       "    <tr>\n",
       "      <th>...</th>\n",
       "      <td>...</td>\n",
       "      <td>...</td>\n",
       "      <td>...</td>\n",
       "    </tr>\n",
       "    <tr>\n",
       "      <th>51831</th>\n",
       "      <td>H3P33</td>\n",
       "      <td>19</td>\n",
       "      <td>gene</td>\n",
       "    </tr>\n",
       "    <tr>\n",
       "      <th>51832</th>\n",
       "      <td>H3P40</td>\n",
       "      <td>175</td>\n",
       "      <td>gene</td>\n",
       "    </tr>\n",
       "    <tr>\n",
       "      <th>51833</th>\n",
       "      <td>LNC-LBCS</td>\n",
       "      <td>3</td>\n",
       "      <td>gene</td>\n",
       "    </tr>\n",
       "    <tr>\n",
       "      <th>51834</th>\n",
       "      <td>CEROX1</td>\n",
       "      <td>1</td>\n",
       "      <td>gene</td>\n",
       "    </tr>\n",
       "    <tr>\n",
       "      <th>51835</th>\n",
       "      <td>MIR223HG</td>\n",
       "      <td>4</td>\n",
       "      <td>gene</td>\n",
       "    </tr>\n",
       "  </tbody>\n",
       "</table>\n",
       "<p>51836 rows × 3 columns</p>\n",
       "</div>"
      ],
      "text/plain": [
       "                                Node  Degree     Type\n",
       "0                     Adenocarcinoma    2235  disease\n",
       "1      Amyotrophic Lateral Sclerosis    1114  disease\n",
       "2                              Apnea     262  disease\n",
       "3                          Arthritis    1072  disease\n",
       "4                      Cholesteatoma     135  disease\n",
       "...                              ...     ...      ...\n",
       "51831                          H3P33      19     gene\n",
       "51832                          H3P40     175     gene\n",
       "51833                       LNC-LBCS       3     gene\n",
       "51834                         CEROX1       1     gene\n",
       "51835                       MIR223HG       4     gene\n",
       "\n",
       "[51836 rows x 3 columns]"
      ]
     },
     "execution_count": 319,
     "metadata": {},
     "output_type": "execute_result"
    }
   ],
   "source": [
    "all_nodes = []\n",
    "for i in diseases:\n",
    "    all_nodes.append((i,G.degree(i),\"disease\"))\n",
    "for i in genes:\n",
    "    all_nodes.append((i,G.degree(i),\"gene\"))\n",
    "all_nodes\n",
    "df_ntw = pd.DataFrame(all_nodes, columns =['Node', 'Degree','Type'])\n",
    "df_ntw"
   ]
  },
  {
   "cell_type": "code",
   "execution_count": 320,
   "id": "da7b72f3",
   "metadata": {},
   "outputs": [],
   "source": [
    "df_ntw.to_csv(\"nodes.csv\")"
   ]
  },
  {
   "cell_type": "code",
   "execution_count": 380,
   "id": "1eec5ea8",
   "metadata": {},
   "outputs": [
    {
     "data": {
      "text/html": [
       "<div>\n",
       "<style scoped>\n",
       "    .dataframe tbody tr th:only-of-type {\n",
       "        vertical-align: middle;\n",
       "    }\n",
       "\n",
       "    .dataframe tbody tr th {\n",
       "        vertical-align: top;\n",
       "    }\n",
       "\n",
       "    .dataframe thead th {\n",
       "        text-align: right;\n",
       "    }\n",
       "</style>\n",
       "<table border=\"1\" class=\"dataframe\">\n",
       "  <thead>\n",
       "    <tr style=\"text-align: right;\">\n",
       "      <th></th>\n",
       "      <th>Source</th>\n",
       "      <th>Target</th>\n",
       "    </tr>\n",
       "  </thead>\n",
       "  <tbody>\n",
       "    <tr>\n",
       "      <th>0</th>\n",
       "      <td>A1BG</td>\n",
       "      <td>Adenocarcinoma</td>\n",
       "    </tr>\n",
       "    <tr>\n",
       "      <th>1</th>\n",
       "      <td>A1BG</td>\n",
       "      <td>Amyotrophic Lateral Sclerosis</td>\n",
       "    </tr>\n",
       "    <tr>\n",
       "      <th>2</th>\n",
       "      <td>A1BG</td>\n",
       "      <td>Apnea</td>\n",
       "    </tr>\n",
       "    <tr>\n",
       "      <th>3</th>\n",
       "      <td>A1BG</td>\n",
       "      <td>Arthritis</td>\n",
       "    </tr>\n",
       "    <tr>\n",
       "      <th>4</th>\n",
       "      <td>A1BG</td>\n",
       "      <td>Cholesteatoma</td>\n",
       "    </tr>\n",
       "    <tr>\n",
       "      <th>...</th>\n",
       "      <td>...</td>\n",
       "      <td>...</td>\n",
       "    </tr>\n",
       "    <tr>\n",
       "      <th>1134937</th>\n",
       "      <td>CEROX1</td>\n",
       "      <td>Body Height</td>\n",
       "    </tr>\n",
       "    <tr>\n",
       "      <th>1134938</th>\n",
       "      <td>MIR223HG</td>\n",
       "      <td>leukemia</td>\n",
       "    </tr>\n",
       "    <tr>\n",
       "      <th>1134939</th>\n",
       "      <td>MIR223HG</td>\n",
       "      <td>Leukemia, Myelocytic, Acute</td>\n",
       "    </tr>\n",
       "    <tr>\n",
       "      <th>1134940</th>\n",
       "      <td>MIR223HG</td>\n",
       "      <td>Leukemogenesis</td>\n",
       "    </tr>\n",
       "    <tr>\n",
       "      <th>1134941</th>\n",
       "      <td>MIR223HG</td>\n",
       "      <td>Childhood Leukemia</td>\n",
       "    </tr>\n",
       "  </tbody>\n",
       "</table>\n",
       "<p>1134942 rows × 2 columns</p>\n",
       "</div>"
      ],
      "text/plain": [
       "           Source                         Target\n",
       "0            A1BG                 Adenocarcinoma\n",
       "1            A1BG  Amyotrophic Lateral Sclerosis\n",
       "2            A1BG                          Apnea\n",
       "3            A1BG                      Arthritis\n",
       "4            A1BG                  Cholesteatoma\n",
       "...           ...                            ...\n",
       "1134937    CEROX1                    Body Height\n",
       "1134938  MIR223HG                       leukemia\n",
       "1134939  MIR223HG    Leukemia, Myelocytic, Acute\n",
       "1134940  MIR223HG                 Leukemogenesis\n",
       "1134941  MIR223HG             Childhood Leukemia\n",
       "\n",
       "[1134942 rows x 2 columns]"
      ]
     },
     "execution_count": 380,
     "metadata": {},
     "output_type": "execute_result"
    }
   ],
   "source": [
    "aux1 = [i[0] for i in edges]\n",
    "aux2 = [i[1] for i in edges]\n",
    "df_edges = pd.DataFrame(list(zip(aux1, aux2)),columns =['Source', 'Target'])\n",
    "df_edges"
   ]
  },
  {
   "cell_type": "code",
   "execution_count": 381,
   "id": "00b9cc78",
   "metadata": {},
   "outputs": [],
   "source": [
    "df_edges.to_csv(\"edges.csv\")"
   ]
  },
  {
   "cell_type": "code",
   "execution_count": 382,
   "id": "187c2c1b",
   "metadata": {},
   "outputs": [
    {
     "data": {
      "text/html": [
       "<div>\n",
       "<style scoped>\n",
       "    .dataframe tbody tr th:only-of-type {\n",
       "        vertical-align: middle;\n",
       "    }\n",
       "\n",
       "    .dataframe tbody tr th {\n",
       "        vertical-align: top;\n",
       "    }\n",
       "\n",
       "    .dataframe thead th {\n",
       "        text-align: right;\n",
       "    }\n",
       "</style>\n",
       "<table border=\"1\" class=\"dataframe\">\n",
       "  <thead>\n",
       "    <tr style=\"text-align: right;\">\n",
       "      <th></th>\n",
       "      <th>Node</th>\n",
       "      <th>Degree</th>\n",
       "      <th>Type</th>\n",
       "    </tr>\n",
       "  </thead>\n",
       "  <tbody>\n",
       "    <tr>\n",
       "      <th>35359</th>\n",
       "      <td>TNF</td>\n",
       "      <td>2724</td>\n",
       "      <td>gene</td>\n",
       "    </tr>\n",
       "    <tr>\n",
       "      <th>35385</th>\n",
       "      <td>TP53</td>\n",
       "      <td>2494</td>\n",
       "      <td>gene</td>\n",
       "    </tr>\n",
       "    <tr>\n",
       "      <th>32743</th>\n",
       "      <td>IL6</td>\n",
       "      <td>2367</td>\n",
       "      <td>gene</td>\n",
       "    </tr>\n",
       "    <tr>\n",
       "      <th>35577</th>\n",
       "      <td>VEGFA</td>\n",
       "      <td>1899</td>\n",
       "      <td>gene</td>\n",
       "    </tr>\n",
       "    <tr>\n",
       "      <th>32729</th>\n",
       "      <td>IL1B</td>\n",
       "      <td>1801</td>\n",
       "      <td>gene</td>\n",
       "    </tr>\n",
       "    <tr>\n",
       "      <th>...</th>\n",
       "      <td>...</td>\n",
       "      <td>...</td>\n",
       "      <td>...</td>\n",
       "    </tr>\n",
       "    <tr>\n",
       "      <th>48557</th>\n",
       "      <td>DEFB108C</td>\n",
       "      <td>1</td>\n",
       "      <td>gene</td>\n",
       "    </tr>\n",
       "    <tr>\n",
       "      <th>45049</th>\n",
       "      <td>FBXO27</td>\n",
       "      <td>1</td>\n",
       "      <td>gene</td>\n",
       "    </tr>\n",
       "    <tr>\n",
       "      <th>39011</th>\n",
       "      <td>H2AP</td>\n",
       "      <td>1</td>\n",
       "      <td>gene</td>\n",
       "    </tr>\n",
       "    <tr>\n",
       "      <th>48555</th>\n",
       "      <td>DPRX</td>\n",
       "      <td>1</td>\n",
       "      <td>gene</td>\n",
       "    </tr>\n",
       "    <tr>\n",
       "      <th>50423</th>\n",
       "      <td>ZNF559-ZNF177</td>\n",
       "      <td>1</td>\n",
       "      <td>gene</td>\n",
       "    </tr>\n",
       "  </tbody>\n",
       "</table>\n",
       "<p>21666 rows × 3 columns</p>\n",
       "</div>"
      ],
      "text/plain": [
       "                Node  Degree  Type\n",
       "35359            TNF    2724  gene\n",
       "35385           TP53    2494  gene\n",
       "32743            IL6    2367  gene\n",
       "35577          VEGFA    1899  gene\n",
       "32729           IL1B    1801  gene\n",
       "...              ...     ...   ...\n",
       "48557       DEFB108C       1  gene\n",
       "45049         FBXO27       1  gene\n",
       "39011           H2AP       1  gene\n",
       "48555           DPRX       1  gene\n",
       "50423  ZNF559-ZNF177       1  gene\n",
       "\n",
       "[21666 rows x 3 columns]"
      ]
     },
     "execution_count": 382,
     "metadata": {},
     "output_type": "execute_result"
    }
   ],
   "source": [
    "df_ntw[df_ntw[\"Type\"]==\"gene\"].sort_values(by=\"Degree\", ascending=False)"
   ]
  },
  {
   "cell_type": "code",
   "execution_count": 371,
   "id": "17a2e479",
   "metadata": {},
   "outputs": [
    {
     "data": {
      "image/png": "[encoded data removed]",
      "text/plain": [
       "<Figure size 648x432 with 1 Axes>"
      ]
     },
     "metadata": {
      "needs_background": "light"
     },
     "output_type": "display_data"
    }
   ],
   "source": [
    "gene_degree = df_ntw[df_ntw[\"Type\"]==\"gene\"].sort_values(by=\"Degree\", ascending=False).Degree\n",
    "plt.hist(gene_degree, bins=50);\n",
    "plt.xlabel(\"Degree\")\n",
    "plt.ylabel(\"Number of nodes\")\n",
    "plt.title(\"Degree of genes nodes\")\n",
    "plt.xscale(\"log\")\n",
    "plt.yscale(\"log\")"
   ]
  },
  {
   "cell_type": "code",
   "execution_count": 334,
   "id": "038fa208",
   "metadata": {},
   "outputs": [
    {
     "data": {
      "text/html": [
       "<div>\n",
       "<style scoped>\n",
       "    .dataframe tbody tr th:only-of-type {\n",
       "        vertical-align: middle;\n",
       "    }\n",
       "\n",
       "    .dataframe tbody tr th {\n",
       "        vertical-align: top;\n",
       "    }\n",
       "\n",
       "    .dataframe thead th {\n",
       "        text-align: right;\n",
       "    }\n",
       "</style>\n",
       "<table border=\"1\" class=\"dataframe\">\n",
       "  <thead>\n",
       "    <tr style=\"text-align: right;\">\n",
       "      <th></th>\n",
       "      <th>Node</th>\n",
       "      <th>Degree</th>\n",
       "      <th>Type</th>\n",
       "    </tr>\n",
       "  </thead>\n",
       "  <tbody>\n",
       "    <tr>\n",
       "      <th>75</th>\n",
       "      <td>Neoplasms</td>\n",
       "      <td>10161</td>\n",
       "      <td>disease</td>\n",
       "    </tr>\n",
       "    <tr>\n",
       "      <th>37</th>\n",
       "      <td>Malignant Neoplasms</td>\n",
       "      <td>8621</td>\n",
       "      <td>disease</td>\n",
       "    </tr>\n",
       "    <tr>\n",
       "      <th>145</th>\n",
       "      <td>Primary malignant neoplasm</td>\n",
       "      <td>8221</td>\n",
       "      <td>disease</td>\n",
       "    </tr>\n",
       "    <tr>\n",
       "      <th>172</th>\n",
       "      <td>Malignant neoplasm of breast</td>\n",
       "      <td>6940</td>\n",
       "      <td>disease</td>\n",
       "    </tr>\n",
       "    <tr>\n",
       "      <th>241</th>\n",
       "      <td>Breast Carcinoma</td>\n",
       "      <td>6775</td>\n",
       "      <td>disease</td>\n",
       "    </tr>\n",
       "    <tr>\n",
       "      <th>...</th>\n",
       "      <td>...</td>\n",
       "      <td>...</td>\n",
       "      <td>...</td>\n",
       "    </tr>\n",
       "    <tr>\n",
       "      <th>23239</th>\n",
       "      <td>Bilateral facial muscle weakness</td>\n",
       "      <td>1</td>\n",
       "      <td>disease</td>\n",
       "    </tr>\n",
       "    <tr>\n",
       "      <th>23240</th>\n",
       "      <td>EPIDERMOLYSIS BULLOSA SIMPLEX WITH NAIL DYSTROPHY</td>\n",
       "      <td>1</td>\n",
       "      <td>disease</td>\n",
       "    </tr>\n",
       "    <tr>\n",
       "      <th>23241</th>\n",
       "      <td>Axial muscle atrophy</td>\n",
       "      <td>1</td>\n",
       "      <td>disease</td>\n",
       "    </tr>\n",
       "    <tr>\n",
       "      <th>23242</th>\n",
       "      <td>Membranous conjunctivitis</td>\n",
       "      <td>1</td>\n",
       "      <td>disease</td>\n",
       "    </tr>\n",
       "    <tr>\n",
       "      <th>30169</th>\n",
       "      <td>Thyroid Gland Follicular Carcinoma, Widely Inv...</td>\n",
       "      <td>1</td>\n",
       "      <td>disease</td>\n",
       "    </tr>\n",
       "  </tbody>\n",
       "</table>\n",
       "<p>30170 rows × 3 columns</p>\n",
       "</div>"
      ],
      "text/plain": [
       "                                                    Node  Degree     Type\n",
       "75                                             Neoplasms   10161  disease\n",
       "37                                   Malignant Neoplasms    8621  disease\n",
       "145                           Primary malignant neoplasm    8221  disease\n",
       "172                         Malignant neoplasm of breast    6940  disease\n",
       "241                                     Breast Carcinoma    6775  disease\n",
       "...                                                  ...     ...      ...\n",
       "23239                   Bilateral facial muscle weakness       1  disease\n",
       "23240  EPIDERMOLYSIS BULLOSA SIMPLEX WITH NAIL DYSTROPHY       1  disease\n",
       "23241                               Axial muscle atrophy       1  disease\n",
       "23242                          Membranous conjunctivitis       1  disease\n",
       "30169  Thyroid Gland Follicular Carcinoma, Widely Inv...       1  disease\n",
       "\n",
       "[30170 rows x 3 columns]"
      ]
     },
     "execution_count": 334,
     "metadata": {},
     "output_type": "execute_result"
    }
   ],
   "source": [
    "df_ntw[df_ntw[\"Type\"]==\"disease\"].sort_values(by=\"Degree\", ascending=False)"
   ]
  },
  {
   "cell_type": "code",
   "execution_count": 379,
   "id": "14306c92",
   "metadata": {},
   "outputs": [
    {
     "data": {
      "image/png": "[encoded data removed]",
      "text/plain": [
       "<Figure size 648x432 with 1 Axes>"
      ]
     },
     "metadata": {
      "needs_background": "light"
     },
     "output_type": "display_data"
    }
   ],
   "source": [
    "gene_degree = df_ntw[df_ntw[\"Type\"]==\"disease\"].sort_values(by=\"Degree\", ascending=False).Degree\n",
    "plt.hist(gene_degree, bins=100);\n",
    "plt.xlabel(\"Degree\")\n",
    "plt.ylabel(\"Number of nodes\")\n",
    "plt.title(\"Degree of disease nodes\")\n",
    "plt.xscale(\"log\")\n",
    "plt.yscale(\"log\")"
   ]
  },
  {
   "cell_type": "code",
   "execution_count": 330,
   "id": "00cbc676",
   "metadata": {},
   "outputs": [
    {
     "data": {
      "text/plain": [
       "[<matplotlib.lines.Line2D at 0x1cd70a30848>]"
      ]
     },
     "execution_count": 330,
     "metadata": {},
     "output_type": "execute_result"
    },
    {
     "data": {
      "image/png": "[encoded data removed]",
      "text/plain": [
       "<Figure size 648x432 with 1 Axes>"
      ]
     },
     "metadata": {
      "needs_background": "light"
     },
     "output_type": "display_data"
    }
   ],
   "source": [
    "plt.plot(df_ntw.Degree)"
   ]
  },
  {
   "cell_type": "code",
   "execution_count": 460,
   "id": "8b149830",
   "metadata": {},
   "outputs": [],
   "source": [
    "top_N = 200"
   ]
  },
  {
   "cell_type": "code",
   "execution_count": 461,
   "id": "760ce5e4",
   "metadata": {},
   "outputs": [],
   "source": [
    "top_50_diseases = list(df_ntw[df_ntw[\"Type\"]==\"disease\"].sort_values(by=\"Degree\", ascending=False)[300:300+top_N].Node)"
   ]
  },
  {
   "cell_type": "code",
   "execution_count": 462,
   "id": "6920b40b",
   "metadata": {},
   "outputs": [],
   "source": [
    "top_50_genes = list(df_ntw[df_ntw[\"Type\"]==\"gene\"].sort_values(by=\"Degree\", ascending=False)[300:300+top_N].Node)"
   ]
  },
  {
   "cell_type": "code",
   "execution_count": 463,
   "id": "2b629d88",
   "metadata": {},
   "outputs": [],
   "source": [
    "import random as r\n",
    "aux1 = []\n",
    "aux2 = []\n",
    "for i in range(20):\n",
    "    aux1.append(top_50_diseases[r.randint(0,top_N)])\n",
    "    aux2.append(top_50_genes[r.randint(0,top_N)])\n",
    "top_50_diseases = aux1\n",
    "top_50_genes = aux2"
   ]
  },
  {
   "cell_type": "code",
   "execution_count": 464,
   "id": "5ed9b2e7",
   "metadata": {},
   "outputs": [
    {
     "data": {
      "text/plain": [
       "('A1BG', 'Adenocarcinoma')"
      ]
     },
     "execution_count": 464,
     "metadata": {},
     "output_type": "execute_result"
    }
   ],
   "source": [
    "edges[0]"
   ]
  },
  {
   "cell_type": "code",
   "execution_count": 465,
   "id": "75374b3c",
   "metadata": {},
   "outputs": [],
   "source": [
    "top_50_edges = []\n",
    "for i in top_50_genes:\n",
    "    for j in edges:\n",
    "        if j[0] == i and j[1] in top_50_diseases:\n",
    "            top_50_edges.append(j)"
   ]
  },
  {
   "cell_type": "code",
   "execution_count": 466,
   "id": "f8026b7f",
   "metadata": {},
   "outputs": [
    {
     "data": {
      "text/plain": [
       "72"
      ]
     },
     "execution_count": 466,
     "metadata": {},
     "output_type": "execute_result"
    }
   ],
   "source": [
    "len(top_50_edges)"
   ]
  },
  {
   "cell_type": "code",
   "execution_count": 467,
   "id": "1a276602",
   "metadata": {},
   "outputs": [
    {
     "data": {
      "text/plain": [
       "('LOX', 'Dermatologic disorders')"
      ]
     },
     "execution_count": 467,
     "metadata": {},
     "output_type": "execute_result"
    }
   ],
   "source": [
    "top_50_edges[0]"
   ]
  },
  {
   "cell_type": "code",
   "execution_count": 468,
   "id": "d79d987e",
   "metadata": {},
   "outputs": [],
   "source": [
    "df_top_50 = pd.DataFrame(top_50_edges, columns =['Source', 'Target'])"
   ]
  },
  {
   "cell_type": "code",
   "execution_count": 469,
   "id": "3d10dfe2",
   "metadata": {},
   "outputs": [],
   "source": [
    "df_top_50.to_csv(\"top_50.csv\")"
   ]
  },
  {
   "cell_type": "code",
   "execution_count": 471,
   "id": "48cb8375",
   "metadata": {},
   "outputs": [],
   "source": [
    "top_50_nodes = []\n",
    "for i in top_50_diseases:\n",
    "    top_50_nodes.append((i,\"disease\"))\n",
    "for i in top_50_genes:\n",
    "    top_50_nodes.append((i,\"gene\"))\n",
    "aux_df = pd.DataFrame(top_50_nodes, columns =['Node','Type'])\n",
    "aux_df.to_csv(\"top_50_nodes.csv\")"
   ]
  },
  {
   "cell_type": "code",
   "execution_count": 456,
   "id": "59284316",
   "metadata": {},
   "outputs": [],
   "source": [
    "top_50_nodes = top_50_diseases + top_50_genes"
   ]
  },
  {
   "cell_type": "code",
   "execution_count": 457,
   "id": "e228c728",
   "metadata": {},
   "outputs": [],
   "source": [
    "df = pd.DataFrame(top_50_nodes)"
   ]
  },
  {
   "cell_type": "code",
   "execution_count": 458,
   "id": "6e9baa7e",
   "metadata": {},
   "outputs": [
    {
     "data": {
      "text/html": [
       "<div>\n",
       "<style scoped>\n",
       "    .dataframe tbody tr th:only-of-type {\n",
       "        vertical-align: middle;\n",
       "    }\n",
       "\n",
       "    .dataframe tbody tr th {\n",
       "        vertical-align: top;\n",
       "    }\n",
       "\n",
       "    .dataframe thead th {\n",
       "        text-align: right;\n",
       "    }\n",
       "</style>\n",
       "<table border=\"1\" class=\"dataframe\">\n",
       "  <thead>\n",
       "    <tr style=\"text-align: right;\">\n",
       "      <th></th>\n",
       "      <th>0</th>\n",
       "    </tr>\n",
       "  </thead>\n",
       "  <tbody>\n",
       "    <tr>\n",
       "      <th>0</th>\n",
       "      <td>Oestrogen receptor positive breast cancer</td>\n",
       "    </tr>\n",
       "    <tr>\n",
       "      <th>1</th>\n",
       "      <td>Mammary Carcinoma, Human</td>\n",
       "    </tr>\n",
       "    <tr>\n",
       "      <th>2</th>\n",
       "      <td>Triglycerides measurement</td>\n",
       "    </tr>\n",
       "    <tr>\n",
       "      <th>3</th>\n",
       "      <td>Post-Traumatic Stress Disorder</td>\n",
       "    </tr>\n",
       "    <tr>\n",
       "      <th>4</th>\n",
       "      <td>Metastatic melanoma</td>\n",
       "    </tr>\n",
       "    <tr>\n",
       "      <th>5</th>\n",
       "      <td>Orbital separation excessive</td>\n",
       "    </tr>\n",
       "    <tr>\n",
       "      <th>6</th>\n",
       "      <td>Byzanthine arch palate</td>\n",
       "    </tr>\n",
       "    <tr>\n",
       "      <th>7</th>\n",
       "      <td>Gallbladder Carcinoma</td>\n",
       "    </tr>\n",
       "    <tr>\n",
       "      <th>8</th>\n",
       "      <td>Helicobacter pylori (H. pylori) infection in c...</td>\n",
       "    </tr>\n",
       "    <tr>\n",
       "      <th>9</th>\n",
       "      <td>Adenocarcinoma of pancreas</td>\n",
       "    </tr>\n",
       "    <tr>\n",
       "      <th>10</th>\n",
       "      <td>Neuroendocrine Tumors</td>\n",
       "    </tr>\n",
       "    <tr>\n",
       "      <th>11</th>\n",
       "      <td>Hyperlipidemia</td>\n",
       "    </tr>\n",
       "    <tr>\n",
       "      <th>12</th>\n",
       "      <td>Spasticity, CTCAE</td>\n",
       "    </tr>\n",
       "    <tr>\n",
       "      <th>13</th>\n",
       "      <td>Metastatic melanoma</td>\n",
       "    </tr>\n",
       "    <tr>\n",
       "      <th>14</th>\n",
       "      <td>Lupus Erythematosus, Discoid</td>\n",
       "    </tr>\n",
       "    <tr>\n",
       "      <th>15</th>\n",
       "      <td>Adult Rhabdomyosarcoma</td>\n",
       "    </tr>\n",
       "    <tr>\n",
       "      <th>16</th>\n",
       "      <td>Hepatitis C, Chronic</td>\n",
       "    </tr>\n",
       "    <tr>\n",
       "      <th>17</th>\n",
       "      <td>Aortic Aneurysm, Abdominal</td>\n",
       "    </tr>\n",
       "    <tr>\n",
       "      <th>18</th>\n",
       "      <td>Malignant Pleural Mesothelioma</td>\n",
       "    </tr>\n",
       "    <tr>\n",
       "      <th>19</th>\n",
       "      <td>Nephroblastoma</td>\n",
       "    </tr>\n",
       "    <tr>\n",
       "      <th>20</th>\n",
       "      <td>PLAT</td>\n",
       "    </tr>\n",
       "    <tr>\n",
       "      <th>21</th>\n",
       "      <td>EHMT1</td>\n",
       "    </tr>\n",
       "    <tr>\n",
       "      <th>22</th>\n",
       "      <td>FHIT</td>\n",
       "    </tr>\n",
       "    <tr>\n",
       "      <th>23</th>\n",
       "      <td>PECAM1</td>\n",
       "    </tr>\n",
       "    <tr>\n",
       "      <th>24</th>\n",
       "      <td>GJB2</td>\n",
       "    </tr>\n",
       "    <tr>\n",
       "      <th>25</th>\n",
       "      <td>TSC1</td>\n",
       "    </tr>\n",
       "    <tr>\n",
       "      <th>26</th>\n",
       "      <td>ADRB2</td>\n",
       "    </tr>\n",
       "    <tr>\n",
       "      <th>27</th>\n",
       "      <td>CD163</td>\n",
       "    </tr>\n",
       "    <tr>\n",
       "      <th>28</th>\n",
       "      <td>RAC1</td>\n",
       "    </tr>\n",
       "    <tr>\n",
       "      <th>29</th>\n",
       "      <td>RASSF1</td>\n",
       "    </tr>\n",
       "    <tr>\n",
       "      <th>30</th>\n",
       "      <td>CYBB</td>\n",
       "    </tr>\n",
       "    <tr>\n",
       "      <th>31</th>\n",
       "      <td>SOAT1</td>\n",
       "    </tr>\n",
       "    <tr>\n",
       "      <th>32</th>\n",
       "      <td>ADRB2</td>\n",
       "    </tr>\n",
       "    <tr>\n",
       "      <th>33</th>\n",
       "      <td>FCGR3A</td>\n",
       "    </tr>\n",
       "    <tr>\n",
       "      <th>34</th>\n",
       "      <td>PMP22</td>\n",
       "    </tr>\n",
       "    <tr>\n",
       "      <th>35</th>\n",
       "      <td>S100A1</td>\n",
       "    </tr>\n",
       "    <tr>\n",
       "      <th>36</th>\n",
       "      <td>STAT5B</td>\n",
       "    </tr>\n",
       "    <tr>\n",
       "      <th>37</th>\n",
       "      <td>FMR1</td>\n",
       "    </tr>\n",
       "    <tr>\n",
       "      <th>38</th>\n",
       "      <td>HDAC9</td>\n",
       "    </tr>\n",
       "    <tr>\n",
       "      <th>39</th>\n",
       "      <td>F5</td>\n",
       "    </tr>\n",
       "  </tbody>\n",
       "</table>\n",
       "</div>"
      ],
      "text/plain": [
       "                                                    0\n",
       "0           Oestrogen receptor positive breast cancer\n",
       "1                            Mammary Carcinoma, Human\n",
       "2                           Triglycerides measurement\n",
       "3                      Post-Traumatic Stress Disorder\n",
       "4                                 Metastatic melanoma\n",
       "5                        Orbital separation excessive\n",
       "6                              Byzanthine arch palate\n",
       "7                               Gallbladder Carcinoma\n",
       "8   Helicobacter pylori (H. pylori) infection in c...\n",
       "9                          Adenocarcinoma of pancreas\n",
       "10                              Neuroendocrine Tumors\n",
       "11                                     Hyperlipidemia\n",
       "12                                  Spasticity, CTCAE\n",
       "13                                Metastatic melanoma\n",
       "14                       Lupus Erythematosus, Discoid\n",
       "15                             Adult Rhabdomyosarcoma\n",
       "16                               Hepatitis C, Chronic\n",
       "17                         Aortic Aneurysm, Abdominal\n",
       "18                     Malignant Pleural Mesothelioma\n",
       "19                                     Nephroblastoma\n",
       "20                                               PLAT\n",
       "21                                              EHMT1\n",
       "22                                               FHIT\n",
       "23                                             PECAM1\n",
       "24                                               GJB2\n",
       "25                                               TSC1\n",
       "26                                              ADRB2\n",
       "27                                              CD163\n",
       "28                                               RAC1\n",
       "29                                             RASSF1\n",
       "30                                               CYBB\n",
       "31                                              SOAT1\n",
       "32                                              ADRB2\n",
       "33                                             FCGR3A\n",
       "34                                              PMP22\n",
       "35                                             S100A1\n",
       "36                                             STAT5B\n",
       "37                                               FMR1\n",
       "38                                              HDAC9\n",
       "39                                                 F5"
      ]
     },
     "execution_count": 458,
     "metadata": {},
     "output_type": "execute_result"
    }
   ],
   "source": [
    "df"
   ]
  },
  {
   "cell_type": "code",
   "execution_count": 459,
   "id": "6d760643",
   "metadata": {},
   "outputs": [],
   "source": [
    "#df.to_csv(\"top_50_nodes.csv\")"
   ]
  },
  {
   "cell_type": "code",
   "execution_count": 485,
   "id": "98125902",
   "metadata": {},
   "outputs": [],
   "source": [
    "top_50_diseases = df_ntw[df_ntw[\"Type\"]==\"gene\"].sort_values(by=\"Degree\", ascending=False).head(25)"
   ]
  },
  {
   "cell_type": "code",
   "execution_count": 486,
   "id": "fa2431b8",
   "metadata": {},
   "outputs": [
    {
     "data": {
      "text/html": [
       "<div>\n",
       "<style scoped>\n",
       "    .dataframe tbody tr th:only-of-type {\n",
       "        vertical-align: middle;\n",
       "    }\n",
       "\n",
       "    .dataframe tbody tr th {\n",
       "        vertical-align: top;\n",
       "    }\n",
       "\n",
       "    .dataframe thead th {\n",
       "        text-align: right;\n",
       "    }\n",
       "</style>\n",
       "<table border=\"1\" class=\"dataframe\">\n",
       "  <thead>\n",
       "    <tr style=\"text-align: right;\">\n",
       "      <th></th>\n",
       "      <th>Node</th>\n",
       "      <th>Degree</th>\n",
       "      <th>Type</th>\n",
       "    </tr>\n",
       "  </thead>\n",
       "  <tbody>\n",
       "    <tr>\n",
       "      <th>35359</th>\n",
       "      <td>TNF</td>\n",
       "      <td>2724</td>\n",
       "      <td>gene</td>\n",
       "    </tr>\n",
       "    <tr>\n",
       "      <th>35385</th>\n",
       "      <td>TP53</td>\n",
       "      <td>2494</td>\n",
       "      <td>gene</td>\n",
       "    </tr>\n",
       "    <tr>\n",
       "      <th>32743</th>\n",
       "      <td>IL6</td>\n",
       "      <td>2367</td>\n",
       "      <td>gene</td>\n",
       "    </tr>\n",
       "    <tr>\n",
       "      <th>35577</th>\n",
       "      <td>VEGFA</td>\n",
       "      <td>1899</td>\n",
       "      <td>gene</td>\n",
       "    </tr>\n",
       "    <tr>\n",
       "      <th>32729</th>\n",
       "      <td>IL1B</td>\n",
       "      <td>1801</td>\n",
       "      <td>gene</td>\n",
       "    </tr>\n",
       "    <tr>\n",
       "      <th>32753</th>\n",
       "      <td>IL10</td>\n",
       "      <td>1679</td>\n",
       "      <td>gene</td>\n",
       "    </tr>\n",
       "    <tr>\n",
       "      <th>35285</th>\n",
       "      <td>TGFB1</td>\n",
       "      <td>1558</td>\n",
       "      <td>gene</td>\n",
       "    </tr>\n",
       "    <tr>\n",
       "      <th>32674</th>\n",
       "      <td>IFNG</td>\n",
       "      <td>1519</td>\n",
       "      <td>gene</td>\n",
       "    </tr>\n",
       "    <tr>\n",
       "      <th>33956</th>\n",
       "      <td>PIK3CA</td>\n",
       "      <td>1511</td>\n",
       "      <td>gene</td>\n",
       "    </tr>\n",
       "    <tr>\n",
       "      <th>31202</th>\n",
       "      <td>CRP</td>\n",
       "      <td>1483</td>\n",
       "      <td>gene</td>\n",
       "    </tr>\n",
       "    <tr>\n",
       "      <th>30601</th>\n",
       "      <td>BCL2</td>\n",
       "      <td>1456</td>\n",
       "      <td>gene</td>\n",
       "    </tr>\n",
       "    <tr>\n",
       "      <th>31599</th>\n",
       "      <td>EGFR</td>\n",
       "      <td>1394</td>\n",
       "      <td>gene</td>\n",
       "    </tr>\n",
       "    <tr>\n",
       "      <th>31280</th>\n",
       "      <td>CTNNB1</td>\n",
       "      <td>1368</td>\n",
       "      <td>gene</td>\n",
       "    </tr>\n",
       "    <tr>\n",
       "      <th>34295</th>\n",
       "      <td>PTEN</td>\n",
       "      <td>1349</td>\n",
       "      <td>gene</td>\n",
       "    </tr>\n",
       "    <tr>\n",
       "      <th>33301</th>\n",
       "      <td>MMP9</td>\n",
       "      <td>1337</td>\n",
       "      <td>gene</td>\n",
       "    </tr>\n",
       "    <tr>\n",
       "      <th>30944</th>\n",
       "      <td>CDKN2A</td>\n",
       "      <td>1314</td>\n",
       "      <td>gene</td>\n",
       "    </tr>\n",
       "    <tr>\n",
       "      <th>32748</th>\n",
       "      <td>CXCL8</td>\n",
       "      <td>1254</td>\n",
       "      <td>gene</td>\n",
       "    </tr>\n",
       "    <tr>\n",
       "      <th>30319</th>\n",
       "      <td>AKT1</td>\n",
       "      <td>1250</td>\n",
       "      <td>gene</td>\n",
       "    </tr>\n",
       "    <tr>\n",
       "      <th>34308</th>\n",
       "      <td>PTGS2</td>\n",
       "      <td>1234</td>\n",
       "      <td>gene</td>\n",
       "    </tr>\n",
       "    <tr>\n",
       "      <th>30664</th>\n",
       "      <td>BRAF</td>\n",
       "      <td>1228</td>\n",
       "      <td>gene</td>\n",
       "    </tr>\n",
       "    <tr>\n",
       "      <th>32966</th>\n",
       "      <td>KRAS</td>\n",
       "      <td>1213</td>\n",
       "      <td>gene</td>\n",
       "    </tr>\n",
       "    <tr>\n",
       "      <th>32682</th>\n",
       "      <td>IGF1</td>\n",
       "      <td>1206</td>\n",
       "      <td>gene</td>\n",
       "    </tr>\n",
       "    <tr>\n",
       "      <th>30324</th>\n",
       "      <td>ALB</td>\n",
       "      <td>1198</td>\n",
       "      <td>gene</td>\n",
       "    </tr>\n",
       "    <tr>\n",
       "      <th>35085</th>\n",
       "      <td>STAT3</td>\n",
       "      <td>1193</td>\n",
       "      <td>gene</td>\n",
       "    </tr>\n",
       "    <tr>\n",
       "      <th>35340</th>\n",
       "      <td>TLR4</td>\n",
       "      <td>1174</td>\n",
       "      <td>gene</td>\n",
       "    </tr>\n",
       "  </tbody>\n",
       "</table>\n",
       "</div>"
      ],
      "text/plain": [
       "         Node  Degree  Type\n",
       "35359     TNF    2724  gene\n",
       "35385    TP53    2494  gene\n",
       "32743     IL6    2367  gene\n",
       "35577   VEGFA    1899  gene\n",
       "32729    IL1B    1801  gene\n",
       "32753    IL10    1679  gene\n",
       "35285   TGFB1    1558  gene\n",
       "32674    IFNG    1519  gene\n",
       "33956  PIK3CA    1511  gene\n",
       "31202     CRP    1483  gene\n",
       "30601    BCL2    1456  gene\n",
       "31599    EGFR    1394  gene\n",
       "31280  CTNNB1    1368  gene\n",
       "34295    PTEN    1349  gene\n",
       "33301    MMP9    1337  gene\n",
       "30944  CDKN2A    1314  gene\n",
       "32748   CXCL8    1254  gene\n",
       "30319    AKT1    1250  gene\n",
       "34308   PTGS2    1234  gene\n",
       "30664    BRAF    1228  gene\n",
       "32966    KRAS    1213  gene\n",
       "32682    IGF1    1206  gene\n",
       "30324     ALB    1198  gene\n",
       "35085   STAT3    1193  gene\n",
       "35340    TLR4    1174  gene"
      ]
     },
     "execution_count": 486,
     "metadata": {},
     "output_type": "execute_result"
    }
   ],
   "source": [
    "top_50_diseases"
   ]
  },
  {
   "cell_type": "code",
   "execution_count": 489,
   "id": "7b4cb958",
   "metadata": {},
   "outputs": [
    {
     "data": {
      "image/png": "[encoded data removed]",
      "text/plain": [
       "<Figure size 648x432 with 1 Axes>"
      ]
     },
     "metadata": {
      "needs_background": "light"
     },
     "output_type": "display_data"
    }
   ],
   "source": [
    "plt.bar(top_50_diseases.Node,top_50_diseases.Degree)\n",
    "plt.xlabel(\"Gene\")\n",
    "plt.ylabel(\"Degree\")\n",
    "plt.title(\"Genes with highest degree\")\n",
    "plt.xticks(rotation='85');"
   ]
  },
  {
   "cell_type": "code",
   "execution_count": 490,
   "id": "3cb7e9b8",
   "metadata": {},
   "outputs": [],
   "source": [
    "B = bipartite.projected_graph(G, bottom)"
   ]
  },
  {
   "cell_type": "code",
   "execution_count": 499,
   "id": "2356af58",
   "metadata": {},
   "outputs": [],
   "source": [
    "all_nodes = []\n",
    "for i in diseases:\n",
    "    all_nodes.append((i,B.degree(i),\"disease\"))\n",
    "all_nodes\n",
    "df_ntw = pd.DataFrame(all_nodes, columns =['Node', 'Degree','Type'])\n",
    "highest_diseases = list(df_ntw.sort_values(by=\"Degree\", ascending=False).head(10).Node)"
   ]
  },
  {
   "cell_type": "code",
   "execution_count": 504,
   "id": "97af4f01",
   "metadata": {},
   "outputs": [],
   "source": [
    "l = list(B.edges(highest_diseases))"
   ]
  },
  {
   "cell_type": "code",
   "execution_count": 508,
   "id": "d4efab9e",
   "metadata": {},
   "outputs": [],
   "source": [
    "aux_F = []\n",
    "for i in l:\n",
    "    if i[1] in highest_diseases:\n",
    "        aux_F.append(i)"
   ]
  },
  {
   "cell_type": "code",
   "execution_count": 509,
   "id": "8236987d",
   "metadata": {},
   "outputs": [
    {
     "data": {
      "text/plain": [
       "[('Neoplasms', 'Liver carcinoma'),\n",
       " ('Neoplasms', 'Malignant Neoplasms'),\n",
       " ('Neoplasms', 'Neoplasm Metastasis'),\n",
       " ('Neoplasms', 'Breast Carcinoma'),\n",
       " ('Neoplasms', 'Primary malignant neoplasm'),\n",
       " ('Neoplasms', 'Malignant neoplasm of breast'),\n",
       " ('Neoplasms', 'Tumor Cell Invasion'),\n",
       " ('Neoplasms', 'Carcinogenesis'),\n",
       " ('Neoplasms', 'Colorectal Carcinoma'),\n",
       " ('Malignant Neoplasms', 'Liver carcinoma'),\n",
       " ('Malignant Neoplasms', 'Breast Carcinoma'),\n",
       " ('Malignant Neoplasms', 'Primary malignant neoplasm'),\n",
       " ('Malignant Neoplasms', 'Malignant neoplasm of breast'),\n",
       " ('Malignant Neoplasms', 'Tumor Cell Invasion'),\n",
       " ('Malignant Neoplasms', 'Carcinogenesis'),\n",
       " ('Malignant Neoplasms', 'Colorectal Carcinoma'),\n",
       " ('Malignant Neoplasms', 'Neoplasm Metastasis'),\n",
       " ('Primary malignant neoplasm', 'Liver carcinoma'),\n",
       " ('Primary malignant neoplasm', 'Neoplasm Metastasis'),\n",
       " ('Primary malignant neoplasm', 'Tumor Cell Invasion'),\n",
       " ('Primary malignant neoplasm', 'Breast Carcinoma'),\n",
       " ('Primary malignant neoplasm', 'Malignant neoplasm of breast'),\n",
       " ('Primary malignant neoplasm', 'Carcinogenesis'),\n",
       " ('Primary malignant neoplasm', 'Colorectal Carcinoma'),\n",
       " ('Malignant neoplasm of breast', 'Liver carcinoma'),\n",
       " ('Malignant neoplasm of breast', 'Neoplasm Metastasis'),\n",
       " ('Malignant neoplasm of breast', 'Tumor Cell Invasion'),\n",
       " ('Malignant neoplasm of breast', 'Breast Carcinoma'),\n",
       " ('Malignant neoplasm of breast', 'Carcinogenesis'),\n",
       " ('Malignant neoplasm of breast', 'Colorectal Carcinoma'),\n",
       " ('Breast Carcinoma', 'Liver carcinoma'),\n",
       " ('Breast Carcinoma', 'Neoplasm Metastasis'),\n",
       " ('Breast Carcinoma', 'Tumor Cell Invasion'),\n",
       " ('Breast Carcinoma', 'Colorectal Carcinoma'),\n",
       " ('Breast Carcinoma', 'Carcinogenesis'),\n",
       " ('Tumor Cell Invasion', 'Liver carcinoma'),\n",
       " ('Tumor Cell Invasion', 'Neoplasm Metastasis'),\n",
       " ('Tumor Cell Invasion', 'Carcinogenesis'),\n",
       " ('Tumor Cell Invasion', 'Colorectal Carcinoma'),\n",
       " ('Neoplasm Metastasis', 'Liver carcinoma'),\n",
       " ('Neoplasm Metastasis', 'Carcinogenesis'),\n",
       " ('Neoplasm Metastasis', 'Colorectal Carcinoma'),\n",
       " ('Carcinogenesis', 'Liver carcinoma'),\n",
       " ('Carcinogenesis', 'Colorectal Carcinoma'),\n",
       " ('Liver carcinoma', 'Colorectal Carcinoma')]"
      ]
     },
     "execution_count": 509,
     "metadata": {},
     "output_type": "execute_result"
    }
   ],
   "source": [
    "aux_F"
   ]
  },
  {
   "cell_type": "code",
   "execution_count": 510,
   "id": "00daf3ef",
   "metadata": {},
   "outputs": [],
   "source": [
    "uni = pd.DataFrame(aux_F, columns =['Source','Target'])\n",
    "uni.to_csv(\"unipart.csv\")"
   ]
  },
  {
   "cell_type": "code",
   "execution_count": null,
   "id": "97c9014c",
   "metadata": {},
   "outputs": [],
   "source": []
  }
 ],
 "metadata": {
  "kernelspec": {
   "display_name": "Python 3 (ipykernel)",
   "language": "python",
   "name": "python3"
  },
  "language_info": {
   "codemirror_mode": {
    "name": "ipython",
    "version": 3
   },
   "file_extension": ".py",
   "mimetype": "text/x-python",
   "name": "python",
   "nbconvert_exporter": "python",
   "pygments_lexer": "ipython3",
   "version": "3.7.9"
  }
 },
 "nbformat": 4,
 "nbformat_minor": 5
}
